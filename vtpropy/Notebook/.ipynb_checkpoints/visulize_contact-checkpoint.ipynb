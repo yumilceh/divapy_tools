{
 "cells": [
  {
   "cell_type": "code",
   "execution_count": 1,
   "metadata": {
    "collapsed": false,
    "deletable": true,
    "editable": true
   },
   "outputs": [
    {
     "ename": "ImportError",
     "evalue": "No module named contact_functions",
     "output_type": "error",
     "traceback": [
      "\u001b[0;31m---------------------------------------------------------------------------\u001b[0m",
      "\u001b[0;31mImportError\u001b[0m                               Traceback (most recent call last)",
      "\u001b[0;32m<ipython-input-1-b84d9e577b46>\u001b[0m in \u001b[0;36m<module>\u001b[0;34m()\u001b[0m\n\u001b[1;32m     12\u001b[0m \u001b[0;32mfrom\u001b[0m \u001b[0mIPython\u001b[0m \u001b[0;32mimport\u001b[0m \u001b[0mdisplay\u001b[0m\u001b[0;34m\u001b[0m\u001b[0m\n\u001b[1;32m     13\u001b[0m \u001b[0;34m\u001b[0m\u001b[0m\n\u001b[0;32m---> 14\u001b[0;31m \u001b[0;32mfrom\u001b[0m \u001b[0mcontact_functions\u001b[0m \u001b[0;32mimport\u001b[0m \u001b[0mabs_sqrt\u001b[0m \u001b[0;32mas\u001b[0m \u001b[0mcontact_function\u001b[0m\u001b[0;34m\u001b[0m\u001b[0m\n\u001b[0m",
      "\u001b[0;31mImportError\u001b[0m: No module named contact_functions"
     ]
    }
   ],
   "source": [
    "%matplotlib inline\n",
    "\"\"\"\n",
    "Created on June,2017\n",
    "\n",
    "@author: Juan Manuel Acevedo Valle\n",
    "\"\"\"\n",
    "import numpy as np\n",
    "import matplotlib.pyplot as plt\n",
    " \n",
    "from ipywidgets import HBox, VBox\n",
    "import ipywidgets as widgets\n",
    "from IPython import display\n",
    "\n",
    "from contact_functions import abs_sqrt as contact_function"
   ]
  },
  {
   "cell_type": "code",
   "execution_count": null,
   "metadata": {
    "collapsed": true,
    "deletable": true,
    "editable": true
   },
   "outputs": [],
   "source": [
    "datafile = 'data/dataset1.npz'\n",
    "\n",
    "data = np.load(datafile)\n",
    "af_train = data['af_train']\n",
    "af_test = data['af_test']\n",
    "\n",
    "prev_btn = widgets.Button(description=\" << \", disabled=False)\n",
    "idx_txt = widgets.IntText(description=\"\")\n",
    "next_btn = widgets.Button(description=\" >> \", disabled=False)\n",
    "\n",
    "tresh_txt = widgets.FloatText(description=\"Zero-Treshold:\")"
   ]
  },
  {
   "cell_type": "code",
   "execution_count": null,
   "metadata": {
    "collapsed": false,
    "deletable": true,
    "editable": true
   },
   "outputs": [],
   "source": [
    "def prev_idx_callback(foo):\n",
    "    idx_txt.value = idx_txt.get_interact_value() - 1\n",
    "\n",
    "def next_idx_callback(foo):\n",
    "    idx_txt.value = idx_txt.get_interact_value() + 1\n",
    "\n",
    "def idx_callback(foo):\n",
    "    display.clear_output(wait=True) #wait=True\n",
    "    index = idx_txt.get_interact_value()\n",
    "    treshold = tresh_txt.get_interact_value()\n",
    "#     print(index)\n",
    "    fig, ax = plt.subplots(2,1)\n",
    "    plt.sca(ax[0])\n",
    "    plt.plot(af_train[index,:])\n",
    "    plt.sca(ax[1])\n",
    "    plt.plot(contact_function(af_train[index,:],treshold))\n",
    "    plt.show()"
   ]
  },
  {
   "cell_type": "code",
   "execution_count": null,
   "metadata": {
    "collapsed": false,
    "deletable": true,
    "editable": true
   },
   "outputs": [],
   "source": [
    "prev_btn.on_click(prev_idx_callback)\n",
    "next_btn.on_click(next_idx_callback)\n",
    "idx_txt.observe(idx_callback) # Calls the function 3 time per interaction\n",
    "tresh_txt.observe(idx_callback)\n",
    "display.display(HBox([prev_btn, idx_txt, next_btn, tresh_txt]))\n",
    "idx_callback(0)"
   ]
  },
  {
   "cell_type": "code",
   "execution_count": null,
   "metadata": {
    "collapsed": true,
    "deletable": true,
    "editable": true
   },
   "outputs": [],
   "source": []
  }
 ],
 "metadata": {
  "kernelspec": {
   "display_name": "Python 2",
   "language": "python",
   "name": "python2"
  },
  "language_info": {
   "codemirror_mode": {
    "name": "ipython",
    "version": 2
   },
   "file_extension": ".py",
   "mimetype": "text/x-python",
   "name": "python",
   "nbconvert_exporter": "python",
   "pygments_lexer": "ipython2",
   "version": "2.7.12"
  }
 },
 "nbformat": 4,
 "nbformat_minor": 2
}
